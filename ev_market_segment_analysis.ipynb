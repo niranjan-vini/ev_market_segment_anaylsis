{
  "nbformat": 4,
  "nbformat_minor": 0,
  "metadata": {
    "colab": {
      "private_outputs": true,
      "provenance": [],
      "authorship_tag": "ABX9TyOzElEvebXtHGtAy5/RHJ/Y",
      "include_colab_link": true
    },
    "kernelspec": {
      "name": "python3",
      "display_name": "Python 3"
    },
    "language_info": {
      "name": "python"
    }
  },
  "cells": [
    {
      "cell_type": "markdown",
      "metadata": {
        "id": "view-in-github",
        "colab_type": "text"
      },
      "source": [
        "<a href=\"https://colab.research.google.com/github/niranjan-vini/ev_market_segment_anaylsis/blob/main/ev_market_segment_analysis.ipynb\" target=\"_parent\"><img src=\"https://colab.research.google.com/assets/colab-badge.svg\" alt=\"Open In Colab\"/></a>"
      ]
    },
    {
      "cell_type": "markdown",
      "source": [
        "## importing libraries"
      ],
      "metadata": {
        "id": "CarTyTBvgi8V"
      }
    },
    {
      "cell_type": "code",
      "execution_count": null,
      "metadata": {
        "id": "I4f30sx3a1Jf"
      },
      "outputs": [],
      "source": [
        "import pandas as pd\n",
        "from sklearn.preprocessing import StandardScaler\n",
        "from sklearn.cluster import KMeans\n",
        "import matplotlib.pyplot as plt\n",
        "import seaborn as sns"
      ]
    },
    {
      "cell_type": "markdown",
      "source": [
        "## Load data"
      ],
      "metadata": {
        "id": "qIh691m7cMo5"
      }
    },
    {
      "cell_type": "code",
      "source": [
        "df = pd.read_csv(\"indian-ev-data.csv\")"
      ],
      "metadata": {
        "id": "qeGoO8kWg3vQ"
      },
      "execution_count": null,
      "outputs": []
    },
    {
      "cell_type": "markdown",
      "source": [
        "## cleand the data"
      ],
      "metadata": {
        "id": "TrEUoziEg-Nx"
      }
    },
    {
      "cell_type": "code",
      "source": [
        "df_cleaned = df.dropna()  # Remove rows with missing values"
      ],
      "metadata": {
        "id": "Y94fYfZRhD5X"
      },
      "execution_count": null,
      "outputs": []
    },
    {
      "cell_type": "markdown",
      "source": [
        "## Summary by Vehicle Type"
      ],
      "metadata": {
        "id": "Pbqt1YOuhRZ9"
      }
    },
    {
      "cell_type": "code",
      "source": [
        "summary_by_type = df_cleaned.groupby(\"Vehicle Type\").agg({\n",
        "    \"Price\": \"mean\",\n",
        "    \"Battery Capacity (kWh)\": \"mean\",\n",
        "    \"Range per Charge (km)\": \"mean\",\n",
        "    \"Charging Time\": \"mean\",\n",
        "    \"Power (HP or kW)\": \"mean\",\n",
        "    \"Top Speed (km/h)\": \"mean\"\n",
        "}).round(2)\n",
        "print(summary_by_type)\n"
      ],
      "metadata": {
        "id": "zYDHAN5bhXYA"
      },
      "execution_count": null,
      "outputs": []
    },
    {
      "cell_type": "markdown",
      "source": [
        "## Feature Selection & Standardization"
      ],
      "metadata": {
        "id": "ecbYCGUujJkZ"
      }
    },
    {
      "cell_type": "code",
      "source": [
        "features = df_cleaned[[\n",
        "    \"Price\", \"Battery Capacity (kWh)\", \"Range per Charge (km)\",\n",
        "    \"Charging Time\", \"Power (HP or kW)\", \"Top Speed (km/h)\"\n",
        "]]\n",
        "scaler = StandardScaler()\n",
        "features_scaled = scaler.fit_transform(features)\n"
      ],
      "metadata": {
        "id": "ukhDjtvBjSmZ"
      },
      "execution_count": null,
      "outputs": []
    },
    {
      "cell_type": "markdown",
      "source": [
        "## Apply KMeans Clustering"
      ],
      "metadata": {
        "id": "gMHrDbgWjafd"
      }
    },
    {
      "cell_type": "code",
      "source": [
        "kmeans = KMeans(n_clusters=3, random_state=42)\n",
        "df_cleaned[\"Segment\"] = kmeans.fit_predict(features_scaled)"
      ],
      "metadata": {
        "id": "czepqfMrjkk2"
      },
      "execution_count": null,
      "outputs": []
    },
    {
      "cell_type": "markdown",
      "source": [
        "## Segment Summary"
      ],
      "metadata": {
        "id": "qo4tWdICjxZk"
      }
    },
    {
      "cell_type": "code",
      "source": [
        "segment_summary = df_cleaned.groupby(\"Segment\").agg({\n",
        "    \"Price\": \"mean\",\n",
        "    \"Range per Charge (km)\": \"mean\",\n",
        "    \"Power (HP or kW)\": \"mean\",\n",
        "    \"Vehicle Type\": lambda x: x.mode()[0]\n",
        "}).round(2)\n",
        "print(segment_summary)\n"
      ],
      "metadata": {
        "id": "JAK3tYLxjwC3"
      },
      "execution_count": null,
      "outputs": []
    },
    {
      "cell_type": "markdown",
      "source": [
        "## Visualize Segments\n",
        "\n"
      ],
      "metadata": {
        "id": "_SygZaNOj7GP"
      }
    },
    {
      "cell_type": "code",
      "source": [
        "plt.figure(figsize=(10, 6))\n",
        "sns.scatterplot(\n",
        "    data=df_cleaned,\n",
        "    x=\"Range per Charge (km)\",\n",
        "    y=\"Price\",\n",
        "    hue=\"Segment\",\n",
        "    palette=\"Set2\",\n",
        "    s=100\n",
        ")\n",
        "plt.title(\"EV Segmentation: Price vs Range\")\n",
        "plt.xlabel(\"Range per Charge (km)\")\n",
        "plt.ylabel(\"Price (INR)\")\n",
        "plt.grid(True)\n",
        "plt.tight_layout()\n",
        "plt.show()\n"
      ],
      "metadata": {
        "id": "be3Mt2Hwj550"
      },
      "execution_count": null,
      "outputs": []
    }
  ]
}